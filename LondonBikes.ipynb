{
  "metadata": {
    "language_info": {
      "codemirror_mode": {
        "name": "python",
        "version": 3
      },
      "file_extension": ".py",
      "mimetype": "text/x-python",
      "name": "python",
      "nbconvert_exporter": "python",
      "pygments_lexer": "ipython3",
      "version": "3.8"
    },
    "kernelspec": {
      "name": "python",
      "display_name": "Python (Pyodide)",
      "language": "python"
    }
  },
  "nbformat_minor": 4,
  "nbformat": 4,
  "cells": [
    {
      "cell_type": "code",
      "source": "#pip install pandas",
      "metadata": {
        "trusted": true
      },
      "execution_count": 10,
      "outputs": []
    },
    {
      "cell_type": "code",
      "source": "# Import Panda Lib\nimport pandas as pd",
      "metadata": {
        "trusted": true
      },
      "execution_count": 79,
      "outputs": []
    },
    {
      "cell_type": "code",
      "source": "# read in the csv file as a pandas dataframe\npd.read_csv(\"london_merged.csv\")",
      "metadata": {
        "trusted": true
      },
      "execution_count": 58,
      "outputs": [
        {
          "execution_count": 58,
          "output_type": "execute_result",
          "data": {
            "text/plain": "                 timestamp   cnt   t1   t2    hum  wind_speed  weather_code  \\\n0      2015-01-04 00:00:00   182  3.0  2.0   93.0         6.0           3.0   \n1      2015-01-04 01:00:00   138  3.0  2.5   93.0         5.0           1.0   \n2      2015-01-04 02:00:00   134  2.5  2.5   96.5         0.0           1.0   \n3      2015-01-04 03:00:00    72  2.0  2.0  100.0         0.0           1.0   \n4      2015-01-04 04:00:00    47  2.0  0.0   93.0         6.5           1.0   \n...                    ...   ...  ...  ...    ...         ...           ...   \n17409  2017-01-03 19:00:00  1042  5.0  1.0   81.0        19.0           3.0   \n17410  2017-01-03 20:00:00   541  5.0  1.0   81.0        21.0           4.0   \n17411  2017-01-03 21:00:00   337  5.5  1.5   78.5        24.0           4.0   \n17412  2017-01-03 22:00:00   224  5.5  1.5   76.0        23.0           4.0   \n17413  2017-01-03 23:00:00   139  5.0  1.0   76.0        22.0           2.0   \n\n       is_holiday  is_weekend  season  \n0             0.0         1.0     3.0  \n1             0.0         1.0     3.0  \n2             0.0         1.0     3.0  \n3             0.0         1.0     3.0  \n4             0.0         1.0     3.0  \n...           ...         ...     ...  \n17409         0.0         0.0     3.0  \n17410         0.0         0.0     3.0  \n17411         0.0         0.0     3.0  \n17412         0.0         0.0     3.0  \n17413         0.0         0.0     3.0  \n\n[17414 rows x 10 columns]",
            "text/html": "<div>\n<style scoped>\n    .dataframe tbody tr th:only-of-type {\n        vertical-align: middle;\n    }\n\n    .dataframe tbody tr th {\n        vertical-align: top;\n    }\n\n    .dataframe thead th {\n        text-align: right;\n    }\n</style>\n<table border=\"1\" class=\"dataframe\">\n  <thead>\n    <tr style=\"text-align: right;\">\n      <th></th>\n      <th>timestamp</th>\n      <th>cnt</th>\n      <th>t1</th>\n      <th>t2</th>\n      <th>hum</th>\n      <th>wind_speed</th>\n      <th>weather_code</th>\n      <th>is_holiday</th>\n      <th>is_weekend</th>\n      <th>season</th>\n    </tr>\n  </thead>\n  <tbody>\n    <tr>\n      <th>0</th>\n      <td>2015-01-04 00:00:00</td>\n      <td>182</td>\n      <td>3.0</td>\n      <td>2.0</td>\n      <td>93.0</td>\n      <td>6.0</td>\n      <td>3.0</td>\n      <td>0.0</td>\n      <td>1.0</td>\n      <td>3.0</td>\n    </tr>\n    <tr>\n      <th>1</th>\n      <td>2015-01-04 01:00:00</td>\n      <td>138</td>\n      <td>3.0</td>\n      <td>2.5</td>\n      <td>93.0</td>\n      <td>5.0</td>\n      <td>1.0</td>\n      <td>0.0</td>\n      <td>1.0</td>\n      <td>3.0</td>\n    </tr>\n    <tr>\n      <th>2</th>\n      <td>2015-01-04 02:00:00</td>\n      <td>134</td>\n      <td>2.5</td>\n      <td>2.5</td>\n      <td>96.5</td>\n      <td>0.0</td>\n      <td>1.0</td>\n      <td>0.0</td>\n      <td>1.0</td>\n      <td>3.0</td>\n    </tr>\n    <tr>\n      <th>3</th>\n      <td>2015-01-04 03:00:00</td>\n      <td>72</td>\n      <td>2.0</td>\n      <td>2.0</td>\n      <td>100.0</td>\n      <td>0.0</td>\n      <td>1.0</td>\n      <td>0.0</td>\n      <td>1.0</td>\n      <td>3.0</td>\n    </tr>\n    <tr>\n      <th>4</th>\n      <td>2015-01-04 04:00:00</td>\n      <td>47</td>\n      <td>2.0</td>\n      <td>0.0</td>\n      <td>93.0</td>\n      <td>6.5</td>\n      <td>1.0</td>\n      <td>0.0</td>\n      <td>1.0</td>\n      <td>3.0</td>\n    </tr>\n    <tr>\n      <th>...</th>\n      <td>...</td>\n      <td>...</td>\n      <td>...</td>\n      <td>...</td>\n      <td>...</td>\n      <td>...</td>\n      <td>...</td>\n      <td>...</td>\n      <td>...</td>\n      <td>...</td>\n    </tr>\n    <tr>\n      <th>17409</th>\n      <td>2017-01-03 19:00:00</td>\n      <td>1042</td>\n      <td>5.0</td>\n      <td>1.0</td>\n      <td>81.0</td>\n      <td>19.0</td>\n      <td>3.0</td>\n      <td>0.0</td>\n      <td>0.0</td>\n      <td>3.0</td>\n    </tr>\n    <tr>\n      <th>17410</th>\n      <td>2017-01-03 20:00:00</td>\n      <td>541</td>\n      <td>5.0</td>\n      <td>1.0</td>\n      <td>81.0</td>\n      <td>21.0</td>\n      <td>4.0</td>\n      <td>0.0</td>\n      <td>0.0</td>\n      <td>3.0</td>\n    </tr>\n    <tr>\n      <th>17411</th>\n      <td>2017-01-03 21:00:00</td>\n      <td>337</td>\n      <td>5.5</td>\n      <td>1.5</td>\n      <td>78.5</td>\n      <td>24.0</td>\n      <td>4.0</td>\n      <td>0.0</td>\n      <td>0.0</td>\n      <td>3.0</td>\n    </tr>\n    <tr>\n      <th>17412</th>\n      <td>2017-01-03 22:00:00</td>\n      <td>224</td>\n      <td>5.5</td>\n      <td>1.5</td>\n      <td>76.0</td>\n      <td>23.0</td>\n      <td>4.0</td>\n      <td>0.0</td>\n      <td>0.0</td>\n      <td>3.0</td>\n    </tr>\n    <tr>\n      <th>17413</th>\n      <td>2017-01-03 23:00:00</td>\n      <td>139</td>\n      <td>5.0</td>\n      <td>1.0</td>\n      <td>76.0</td>\n      <td>22.0</td>\n      <td>2.0</td>\n      <td>0.0</td>\n      <td>0.0</td>\n      <td>3.0</td>\n    </tr>\n  </tbody>\n</table>\n<p>17414 rows × 10 columns</p>\n</div>"
          },
          "metadata": {}
        }
      ]
    },
    {
      "cell_type": "code",
      "source": "#reading into a df\nbikes = pd.read_csv(\"london_merged.csv\")\nbikes.head()",
      "metadata": {
        "trusted": true
      },
      "execution_count": 59,
      "outputs": [
        {
          "execution_count": 59,
          "output_type": "execute_result",
          "data": {
            "text/plain": "             timestamp  cnt   t1   t2    hum  wind_speed  weather_code  \\\n0  2015-01-04 00:00:00  182  3.0  2.0   93.0         6.0           3.0   \n1  2015-01-04 01:00:00  138  3.0  2.5   93.0         5.0           1.0   \n2  2015-01-04 02:00:00  134  2.5  2.5   96.5         0.0           1.0   \n3  2015-01-04 03:00:00   72  2.0  2.0  100.0         0.0           1.0   \n4  2015-01-04 04:00:00   47  2.0  0.0   93.0         6.5           1.0   \n\n   is_holiday  is_weekend  season  \n0         0.0         1.0     3.0  \n1         0.0         1.0     3.0  \n2         0.0         1.0     3.0  \n3         0.0         1.0     3.0  \n4         0.0         1.0     3.0  ",
            "text/html": "<div>\n<style scoped>\n    .dataframe tbody tr th:only-of-type {\n        vertical-align: middle;\n    }\n\n    .dataframe tbody tr th {\n        vertical-align: top;\n    }\n\n    .dataframe thead th {\n        text-align: right;\n    }\n</style>\n<table border=\"1\" class=\"dataframe\">\n  <thead>\n    <tr style=\"text-align: right;\">\n      <th></th>\n      <th>timestamp</th>\n      <th>cnt</th>\n      <th>t1</th>\n      <th>t2</th>\n      <th>hum</th>\n      <th>wind_speed</th>\n      <th>weather_code</th>\n      <th>is_holiday</th>\n      <th>is_weekend</th>\n      <th>season</th>\n    </tr>\n  </thead>\n  <tbody>\n    <tr>\n      <th>0</th>\n      <td>2015-01-04 00:00:00</td>\n      <td>182</td>\n      <td>3.0</td>\n      <td>2.0</td>\n      <td>93.0</td>\n      <td>6.0</td>\n      <td>3.0</td>\n      <td>0.0</td>\n      <td>1.0</td>\n      <td>3.0</td>\n    </tr>\n    <tr>\n      <th>1</th>\n      <td>2015-01-04 01:00:00</td>\n      <td>138</td>\n      <td>3.0</td>\n      <td>2.5</td>\n      <td>93.0</td>\n      <td>5.0</td>\n      <td>1.0</td>\n      <td>0.0</td>\n      <td>1.0</td>\n      <td>3.0</td>\n    </tr>\n    <tr>\n      <th>2</th>\n      <td>2015-01-04 02:00:00</td>\n      <td>134</td>\n      <td>2.5</td>\n      <td>2.5</td>\n      <td>96.5</td>\n      <td>0.0</td>\n      <td>1.0</td>\n      <td>0.0</td>\n      <td>1.0</td>\n      <td>3.0</td>\n    </tr>\n    <tr>\n      <th>3</th>\n      <td>2015-01-04 03:00:00</td>\n      <td>72</td>\n      <td>2.0</td>\n      <td>2.0</td>\n      <td>100.0</td>\n      <td>0.0</td>\n      <td>1.0</td>\n      <td>0.0</td>\n      <td>1.0</td>\n      <td>3.0</td>\n    </tr>\n    <tr>\n      <th>4</th>\n      <td>2015-01-04 04:00:00</td>\n      <td>47</td>\n      <td>2.0</td>\n      <td>0.0</td>\n      <td>93.0</td>\n      <td>6.5</td>\n      <td>1.0</td>\n      <td>0.0</td>\n      <td>1.0</td>\n      <td>3.0</td>\n    </tr>\n  </tbody>\n</table>\n</div>"
          },
          "metadata": {}
        }
      ]
    },
    {
      "cell_type": "code",
      "source": "# explore the data\nbikes.info()",
      "metadata": {
        "trusted": true
      },
      "execution_count": 60,
      "outputs": [
        {
          "name": "stdout",
          "text": "<class 'pandas.core.frame.DataFrame'>\nRangeIndex: 17414 entries, 0 to 17413\nData columns (total 10 columns):\n #   Column        Non-Null Count  Dtype  \n---  ------        --------------  -----  \n 0   timestamp     17414 non-null  object \n 1   cnt           17414 non-null  int64  \n 2   t1            17414 non-null  float64\n 3   t2            17414 non-null  float64\n 4   hum           17414 non-null  float64\n 5   wind_speed    17414 non-null  float64\n 6   weather_code  17414 non-null  float64\n 7   is_holiday    17414 non-null  float64\n 8   is_weekend    17414 non-null  float64\n 9   season        17414 non-null  float64\ndtypes: float64(8), int64(1), object(1)\nmemory usage: 1.3+ MB\n",
          "output_type": "stream"
        }
      ]
    },
    {
      "cell_type": "code",
      "source": "# explore the data 2\nbikes.describe()",
      "metadata": {
        "trusted": true
      },
      "execution_count": 17,
      "outputs": [
        {
          "execution_count": 17,
          "output_type": "execute_result",
          "data": {
            "text/plain": "                cnt            t1            t2           hum    wind_speed  \\\ncount  17414.000000  17414.000000  17414.000000  17414.000000  17414.000000   \nmean    1143.101642     12.468091     11.520836     72.324954     15.913063   \nstd     1085.108068      5.571818      6.615145     14.313186      7.894570   \nmin        0.000000     -1.500000     -6.000000     20.500000      0.000000   \n25%      257.000000      8.000000      6.000000     63.000000     10.000000   \n50%      844.000000     12.500000     12.500000     74.500000     15.000000   \n75%     1671.750000     16.000000     16.000000     83.000000     20.500000   \nmax     7860.000000     34.000000     34.000000    100.000000     56.500000   \n\n       weather_code    is_holiday    is_weekend        season  \ncount  17414.000000  17414.000000  17414.000000  17414.000000  \nmean       2.722752      0.022051      0.285403      1.492075  \nstd        2.341163      0.146854      0.451619      1.118911  \nmin        1.000000      0.000000      0.000000      0.000000  \n25%        1.000000      0.000000      0.000000      0.000000  \n50%        2.000000      0.000000      0.000000      1.000000  \n75%        3.000000      0.000000      1.000000      2.000000  \nmax       26.000000      1.000000      1.000000      3.000000  ",
            "text/html": "<div>\n<style scoped>\n    .dataframe tbody tr th:only-of-type {\n        vertical-align: middle;\n    }\n\n    .dataframe tbody tr th {\n        vertical-align: top;\n    }\n\n    .dataframe thead th {\n        text-align: right;\n    }\n</style>\n<table border=\"1\" class=\"dataframe\">\n  <thead>\n    <tr style=\"text-align: right;\">\n      <th></th>\n      <th>cnt</th>\n      <th>t1</th>\n      <th>t2</th>\n      <th>hum</th>\n      <th>wind_speed</th>\n      <th>weather_code</th>\n      <th>is_holiday</th>\n      <th>is_weekend</th>\n      <th>season</th>\n    </tr>\n  </thead>\n  <tbody>\n    <tr>\n      <th>count</th>\n      <td>17414.000000</td>\n      <td>17414.000000</td>\n      <td>17414.000000</td>\n      <td>17414.000000</td>\n      <td>17414.000000</td>\n      <td>17414.000000</td>\n      <td>17414.000000</td>\n      <td>17414.000000</td>\n      <td>17414.000000</td>\n    </tr>\n    <tr>\n      <th>mean</th>\n      <td>1143.101642</td>\n      <td>12.468091</td>\n      <td>11.520836</td>\n      <td>72.324954</td>\n      <td>15.913063</td>\n      <td>2.722752</td>\n      <td>0.022051</td>\n      <td>0.285403</td>\n      <td>1.492075</td>\n    </tr>\n    <tr>\n      <th>std</th>\n      <td>1085.108068</td>\n      <td>5.571818</td>\n      <td>6.615145</td>\n      <td>14.313186</td>\n      <td>7.894570</td>\n      <td>2.341163</td>\n      <td>0.146854</td>\n      <td>0.451619</td>\n      <td>1.118911</td>\n    </tr>\n    <tr>\n      <th>min</th>\n      <td>0.000000</td>\n      <td>-1.500000</td>\n      <td>-6.000000</td>\n      <td>20.500000</td>\n      <td>0.000000</td>\n      <td>1.000000</td>\n      <td>0.000000</td>\n      <td>0.000000</td>\n      <td>0.000000</td>\n    </tr>\n    <tr>\n      <th>25%</th>\n      <td>257.000000</td>\n      <td>8.000000</td>\n      <td>6.000000</td>\n      <td>63.000000</td>\n      <td>10.000000</td>\n      <td>1.000000</td>\n      <td>0.000000</td>\n      <td>0.000000</td>\n      <td>0.000000</td>\n    </tr>\n    <tr>\n      <th>50%</th>\n      <td>844.000000</td>\n      <td>12.500000</td>\n      <td>12.500000</td>\n      <td>74.500000</td>\n      <td>15.000000</td>\n      <td>2.000000</td>\n      <td>0.000000</td>\n      <td>0.000000</td>\n      <td>1.000000</td>\n    </tr>\n    <tr>\n      <th>75%</th>\n      <td>1671.750000</td>\n      <td>16.000000</td>\n      <td>16.000000</td>\n      <td>83.000000</td>\n      <td>20.500000</td>\n      <td>3.000000</td>\n      <td>0.000000</td>\n      <td>1.000000</td>\n      <td>2.000000</td>\n    </tr>\n    <tr>\n      <th>max</th>\n      <td>7860.000000</td>\n      <td>34.000000</td>\n      <td>34.000000</td>\n      <td>100.000000</td>\n      <td>56.500000</td>\n      <td>26.000000</td>\n      <td>1.000000</td>\n      <td>1.000000</td>\n      <td>3.000000</td>\n    </tr>\n  </tbody>\n</table>\n</div>"
          },
          "metadata": {}
        }
      ]
    },
    {
      "cell_type": "code",
      "source": "# explore the data 3: 10 Columns and 17414 Rows in this dataset\nbikes.shape",
      "metadata": {
        "trusted": true
      },
      "execution_count": 20,
      "outputs": [
        {
          "execution_count": 20,
          "output_type": "execute_result",
          "data": {
            "text/plain": "(17414, 10)"
          },
          "metadata": {}
        }
      ]
    },
    {
      "cell_type": "code",
      "source": "#seleting and changing the column names i want to use\nnew_columns = {\n    'timestamp':'time',\n    'cnt':'count', \n    't1':'temp_real_C',\n    't2':'temp_feels_like_C',\n    'hum':'humidity_percent',\n    'wind_speed':'wind_speed_kph',\n    'weather_code':'weather',\n    'is_holiday':'is_holiday',\n    'is_weekend':'is_weekend',\n    'season':'season'\n}\n\nbikes.rename(new_columns, axis=1, inplace=True)\nbikes.head()",
      "metadata": {
        "trusted": true
      },
      "execution_count": 61,
      "outputs": [
        {
          "execution_count": 61,
          "output_type": "execute_result",
          "data": {
            "text/plain": "                  time  count  temp_real_C  temp_feels_like_C  \\\n0  2015-01-04 00:00:00    182          3.0                2.0   \n1  2015-01-04 01:00:00    138          3.0                2.5   \n2  2015-01-04 02:00:00    134          2.5                2.5   \n3  2015-01-04 03:00:00     72          2.0                2.0   \n4  2015-01-04 04:00:00     47          2.0                0.0   \n\n   humidity_percent  wind_speed_kph  weather  is_holiday  is_weekend  season  \n0              93.0             6.0      3.0         0.0         1.0     3.0  \n1              93.0             5.0      1.0         0.0         1.0     3.0  \n2              96.5             0.0      1.0         0.0         1.0     3.0  \n3             100.0             0.0      1.0         0.0         1.0     3.0  \n4              93.0             6.5      1.0         0.0         1.0     3.0  ",
            "text/html": "<div>\n<style scoped>\n    .dataframe tbody tr th:only-of-type {\n        vertical-align: middle;\n    }\n\n    .dataframe tbody tr th {\n        vertical-align: top;\n    }\n\n    .dataframe thead th {\n        text-align: right;\n    }\n</style>\n<table border=\"1\" class=\"dataframe\">\n  <thead>\n    <tr style=\"text-align: right;\">\n      <th></th>\n      <th>time</th>\n      <th>count</th>\n      <th>temp_real_C</th>\n      <th>temp_feels_like_C</th>\n      <th>humidity_percent</th>\n      <th>wind_speed_kph</th>\n      <th>weather</th>\n      <th>is_holiday</th>\n      <th>is_weekend</th>\n      <th>season</th>\n    </tr>\n  </thead>\n  <tbody>\n    <tr>\n      <th>0</th>\n      <td>2015-01-04 00:00:00</td>\n      <td>182</td>\n      <td>3.0</td>\n      <td>2.0</td>\n      <td>93.0</td>\n      <td>6.0</td>\n      <td>3.0</td>\n      <td>0.0</td>\n      <td>1.0</td>\n      <td>3.0</td>\n    </tr>\n    <tr>\n      <th>1</th>\n      <td>2015-01-04 01:00:00</td>\n      <td>138</td>\n      <td>3.0</td>\n      <td>2.5</td>\n      <td>93.0</td>\n      <td>5.0</td>\n      <td>1.0</td>\n      <td>0.0</td>\n      <td>1.0</td>\n      <td>3.0</td>\n    </tr>\n    <tr>\n      <th>2</th>\n      <td>2015-01-04 02:00:00</td>\n      <td>134</td>\n      <td>2.5</td>\n      <td>2.5</td>\n      <td>96.5</td>\n      <td>0.0</td>\n      <td>1.0</td>\n      <td>0.0</td>\n      <td>1.0</td>\n      <td>3.0</td>\n    </tr>\n    <tr>\n      <th>3</th>\n      <td>2015-01-04 03:00:00</td>\n      <td>72</td>\n      <td>2.0</td>\n      <td>2.0</td>\n      <td>100.0</td>\n      <td>0.0</td>\n      <td>1.0</td>\n      <td>0.0</td>\n      <td>1.0</td>\n      <td>3.0</td>\n    </tr>\n    <tr>\n      <th>4</th>\n      <td>2015-01-04 04:00:00</td>\n      <td>47</td>\n      <td>2.0</td>\n      <td>0.0</td>\n      <td>93.0</td>\n      <td>6.5</td>\n      <td>1.0</td>\n      <td>0.0</td>\n      <td>1.0</td>\n      <td>3.0</td>\n    </tr>\n  </tbody>\n</table>\n</div>"
          },
          "metadata": {}
        }
      ]
    },
    {
      "cell_type": "code",
      "source": "#Checking unique values in weather\nbikes['weather'].unique()",
      "metadata": {
        "trusted": true
      },
      "execution_count": 62,
      "outputs": [
        {
          "execution_count": 62,
          "output_type": "execute_result",
          "data": {
            "text/plain": "array([ 3.,  1.,  4.,  7.,  2., 26., 10.])"
          },
          "metadata": {}
        }
      ]
    },
    {
      "cell_type": "code",
      "source": "#Counting and checking unique values in wind_speed_kph\nbikes.wind_speed_kph.value_counts()",
      "metadata": {
        "trusted": true
      },
      "execution_count": 63,
      "outputs": [
        {
          "execution_count": 63,
          "output_type": "execute_result",
          "data": {
            "text/plain": "12.000000    842\n14.000000    832\n11.000000    832\n15.000000    828\n13.000000    828\n            ... \n52.000000      1\n54.000000      1\n50.000000      1\n36.500000      1\n2.666667       1\nName: wind_speed_kph, Length: 103, dtype: int64"
          },
          "metadata": {}
        }
      ]
    },
    {
      "cell_type": "code",
      "source": "#Checking unique values in season\nbikes['season'].unique()",
      "metadata": {
        "trusted": true
      },
      "execution_count": 64,
      "outputs": [
        {
          "execution_count": 64,
          "output_type": "execute_result",
          "data": {
            "text/plain": "array([3., 0., 1., 2.])"
          },
          "metadata": {}
        }
      ]
    },
    {
      "cell_type": "code",
      "source": "#Checking unique values in seaon\nbikes.season.value_counts()",
      "metadata": {
        "trusted": true
      },
      "execution_count": 42,
      "outputs": [
        {
          "execution_count": 42,
          "output_type": "execute_result",
          "data": {
            "text/plain": "0.0    4394\n1.0    4387\n3.0    4330\n2.0    4303\nName: season, dtype: int64"
          },
          "metadata": {}
        }
      ]
    },
    {
      "cell_type": "code",
      "source": "# changing the humidity values to percentage (i.e. a value between 0 and 1)\nbikes.humidity_percent = bikes.humidity_percent / 100",
      "metadata": {
        "trusted": true
      },
      "execution_count": 67,
      "outputs": []
    },
    {
      "cell_type": "code",
      "source": "bikes",
      "metadata": {
        "trusted": true
      },
      "execution_count": 68,
      "outputs": [
        {
          "execution_count": 68,
          "output_type": "execute_result",
          "data": {
            "text/plain": "                      time  count  temp_real_C  temp_feels_like_C  \\\n0      2015-01-04 00:00:00    182          3.0                2.0   \n1      2015-01-04 01:00:00    138          3.0                2.5   \n2      2015-01-04 02:00:00    134          2.5                2.5   \n3      2015-01-04 03:00:00     72          2.0                2.0   \n4      2015-01-04 04:00:00     47          2.0                0.0   \n...                    ...    ...          ...                ...   \n17409  2017-01-03 19:00:00   1042          5.0                1.0   \n17410  2017-01-03 20:00:00    541          5.0                1.0   \n17411  2017-01-03 21:00:00    337          5.5                1.5   \n17412  2017-01-03 22:00:00    224          5.5                1.5   \n17413  2017-01-03 23:00:00    139          5.0                1.0   \n\n       humidity_percent  wind_speed_kph  weather  is_holiday  is_weekend  \\\n0               0.00930             6.0      3.0         0.0         1.0   \n1               0.00930             5.0      1.0         0.0         1.0   \n2               0.00965             0.0      1.0         0.0         1.0   \n3               0.01000             0.0      1.0         0.0         1.0   \n4               0.00930             6.5      1.0         0.0         1.0   \n...                 ...             ...      ...         ...         ...   \n17409           0.00810            19.0      3.0         0.0         0.0   \n17410           0.00810            21.0      4.0         0.0         0.0   \n17411           0.00785            24.0      4.0         0.0         0.0   \n17412           0.00760            23.0      4.0         0.0         0.0   \n17413           0.00760            22.0      2.0         0.0         0.0   \n\n       season  \n0         3.0  \n1         3.0  \n2         3.0  \n3         3.0  \n4         3.0  \n...       ...  \n17409     3.0  \n17410     3.0  \n17411     3.0  \n17412     3.0  \n17413     3.0  \n\n[17414 rows x 10 columns]",
            "text/html": "<div>\n<style scoped>\n    .dataframe tbody tr th:only-of-type {\n        vertical-align: middle;\n    }\n\n    .dataframe tbody tr th {\n        vertical-align: top;\n    }\n\n    .dataframe thead th {\n        text-align: right;\n    }\n</style>\n<table border=\"1\" class=\"dataframe\">\n  <thead>\n    <tr style=\"text-align: right;\">\n      <th></th>\n      <th>time</th>\n      <th>count</th>\n      <th>temp_real_C</th>\n      <th>temp_feels_like_C</th>\n      <th>humidity_percent</th>\n      <th>wind_speed_kph</th>\n      <th>weather</th>\n      <th>is_holiday</th>\n      <th>is_weekend</th>\n      <th>season</th>\n    </tr>\n  </thead>\n  <tbody>\n    <tr>\n      <th>0</th>\n      <td>2015-01-04 00:00:00</td>\n      <td>182</td>\n      <td>3.0</td>\n      <td>2.0</td>\n      <td>0.00930</td>\n      <td>6.0</td>\n      <td>3.0</td>\n      <td>0.0</td>\n      <td>1.0</td>\n      <td>3.0</td>\n    </tr>\n    <tr>\n      <th>1</th>\n      <td>2015-01-04 01:00:00</td>\n      <td>138</td>\n      <td>3.0</td>\n      <td>2.5</td>\n      <td>0.00930</td>\n      <td>5.0</td>\n      <td>1.0</td>\n      <td>0.0</td>\n      <td>1.0</td>\n      <td>3.0</td>\n    </tr>\n    <tr>\n      <th>2</th>\n      <td>2015-01-04 02:00:00</td>\n      <td>134</td>\n      <td>2.5</td>\n      <td>2.5</td>\n      <td>0.00965</td>\n      <td>0.0</td>\n      <td>1.0</td>\n      <td>0.0</td>\n      <td>1.0</td>\n      <td>3.0</td>\n    </tr>\n    <tr>\n      <th>3</th>\n      <td>2015-01-04 03:00:00</td>\n      <td>72</td>\n      <td>2.0</td>\n      <td>2.0</td>\n      <td>0.01000</td>\n      <td>0.0</td>\n      <td>1.0</td>\n      <td>0.0</td>\n      <td>1.0</td>\n      <td>3.0</td>\n    </tr>\n    <tr>\n      <th>4</th>\n      <td>2015-01-04 04:00:00</td>\n      <td>47</td>\n      <td>2.0</td>\n      <td>0.0</td>\n      <td>0.00930</td>\n      <td>6.5</td>\n      <td>1.0</td>\n      <td>0.0</td>\n      <td>1.0</td>\n      <td>3.0</td>\n    </tr>\n    <tr>\n      <th>...</th>\n      <td>...</td>\n      <td>...</td>\n      <td>...</td>\n      <td>...</td>\n      <td>...</td>\n      <td>...</td>\n      <td>...</td>\n      <td>...</td>\n      <td>...</td>\n      <td>...</td>\n    </tr>\n    <tr>\n      <th>17409</th>\n      <td>2017-01-03 19:00:00</td>\n      <td>1042</td>\n      <td>5.0</td>\n      <td>1.0</td>\n      <td>0.00810</td>\n      <td>19.0</td>\n      <td>3.0</td>\n      <td>0.0</td>\n      <td>0.0</td>\n      <td>3.0</td>\n    </tr>\n    <tr>\n      <th>17410</th>\n      <td>2017-01-03 20:00:00</td>\n      <td>541</td>\n      <td>5.0</td>\n      <td>1.0</td>\n      <td>0.00810</td>\n      <td>21.0</td>\n      <td>4.0</td>\n      <td>0.0</td>\n      <td>0.0</td>\n      <td>3.0</td>\n    </tr>\n    <tr>\n      <th>17411</th>\n      <td>2017-01-03 21:00:00</td>\n      <td>337</td>\n      <td>5.5</td>\n      <td>1.5</td>\n      <td>0.00785</td>\n      <td>24.0</td>\n      <td>4.0</td>\n      <td>0.0</td>\n      <td>0.0</td>\n      <td>3.0</td>\n    </tr>\n    <tr>\n      <th>17412</th>\n      <td>2017-01-03 22:00:00</td>\n      <td>224</td>\n      <td>5.5</td>\n      <td>1.5</td>\n      <td>0.00760</td>\n      <td>23.0</td>\n      <td>4.0</td>\n      <td>0.0</td>\n      <td>0.0</td>\n      <td>3.0</td>\n    </tr>\n    <tr>\n      <th>17413</th>\n      <td>2017-01-03 23:00:00</td>\n      <td>139</td>\n      <td>5.0</td>\n      <td>1.0</td>\n      <td>0.00760</td>\n      <td>22.0</td>\n      <td>2.0</td>\n      <td>0.0</td>\n      <td>0.0</td>\n      <td>3.0</td>\n    </tr>\n  </tbody>\n</table>\n<p>17414 rows × 10 columns</p>\n</div>"
          },
          "metadata": {}
        }
      ]
    },
    {
      "cell_type": "code",
      "source": "# creating a season dictionary so that we can map the integers 0-3 to the actual written values\nseason_dict = {\n    '0.0':'spring',\n    '1.0':'summer',\n    '2.0':'autumn',\n    '3.0':'winter'\n}\n\n# creating a weather dictionary so that we can map the integers to the actual written values\nweather_dict = {\n    '1.0':'Clear',\n    '2.0':'Scattered clouds',\n    '3.0':'Broken clouds',\n    '4.0':'Cloudy',\n    '7.0':'Rain',\n    '10.0':'Rain with thunderstorm',\n    '26.0':'Snowfall'\n}\n\n# changing the seasons column data type to string\nbikes.season = bikes.season.astype('str')\n# mapping the values 0-3 to the actual written seasons\nbikes.season = bikes.season.map(season_dict)\n\n# changing the weather column data type to string\nbikes.weather = bikes.weather.astype('str')\n# mapping the values to the actual written weathers\nbikes.weather = bikes.weather.map(weather_dict)",
      "metadata": {
        "trusted": true
      },
      "execution_count": 69,
      "outputs": []
    },
    {
      "cell_type": "code",
      "source": "#checking the dataframe\nbikes.head()",
      "metadata": {
        "trusted": true
      },
      "execution_count": 74,
      "outputs": [
        {
          "execution_count": 74,
          "output_type": "execute_result",
          "data": {
            "text/plain": "                  time  count  temp_real_C  temp_feels_like_C  \\\n0  2015-01-04 00:00:00    182          3.0                2.0   \n1  2015-01-04 01:00:00    138          3.0                2.5   \n2  2015-01-04 02:00:00    134          2.5                2.5   \n3  2015-01-04 03:00:00     72          2.0                2.0   \n4  2015-01-04 04:00:00     47          2.0                0.0   \n\n   humidity_percent  wind_speed_kph        weather  is_holiday  is_weekend  \\\n0           0.00930             6.0  Broken clouds         0.0         1.0   \n1           0.00930             5.0          Clear         0.0         1.0   \n2           0.00965             0.0          Clear         0.0         1.0   \n3           0.01000             0.0          Clear         0.0         1.0   \n4           0.00930             6.5          Clear         0.0         1.0   \n\n   season  \n0  winter  \n1  winter  \n2  winter  \n3  winter  \n4  winter  ",
            "text/html": "<div>\n<style scoped>\n    .dataframe tbody tr th:only-of-type {\n        vertical-align: middle;\n    }\n\n    .dataframe tbody tr th {\n        vertical-align: top;\n    }\n\n    .dataframe thead th {\n        text-align: right;\n    }\n</style>\n<table border=\"1\" class=\"dataframe\">\n  <thead>\n    <tr style=\"text-align: right;\">\n      <th></th>\n      <th>time</th>\n      <th>count</th>\n      <th>temp_real_C</th>\n      <th>temp_feels_like_C</th>\n      <th>humidity_percent</th>\n      <th>wind_speed_kph</th>\n      <th>weather</th>\n      <th>is_holiday</th>\n      <th>is_weekend</th>\n      <th>season</th>\n    </tr>\n  </thead>\n  <tbody>\n    <tr>\n      <th>0</th>\n      <td>2015-01-04 00:00:00</td>\n      <td>182</td>\n      <td>3.0</td>\n      <td>2.0</td>\n      <td>0.00930</td>\n      <td>6.0</td>\n      <td>Broken clouds</td>\n      <td>0.0</td>\n      <td>1.0</td>\n      <td>winter</td>\n    </tr>\n    <tr>\n      <th>1</th>\n      <td>2015-01-04 01:00:00</td>\n      <td>138</td>\n      <td>3.0</td>\n      <td>2.5</td>\n      <td>0.00930</td>\n      <td>5.0</td>\n      <td>Clear</td>\n      <td>0.0</td>\n      <td>1.0</td>\n      <td>winter</td>\n    </tr>\n    <tr>\n      <th>2</th>\n      <td>2015-01-04 02:00:00</td>\n      <td>134</td>\n      <td>2.5</td>\n      <td>2.5</td>\n      <td>0.00965</td>\n      <td>0.0</td>\n      <td>Clear</td>\n      <td>0.0</td>\n      <td>1.0</td>\n      <td>winter</td>\n    </tr>\n    <tr>\n      <th>3</th>\n      <td>2015-01-04 03:00:00</td>\n      <td>72</td>\n      <td>2.0</td>\n      <td>2.0</td>\n      <td>0.01000</td>\n      <td>0.0</td>\n      <td>Clear</td>\n      <td>0.0</td>\n      <td>1.0</td>\n      <td>winter</td>\n    </tr>\n    <tr>\n      <th>4</th>\n      <td>2015-01-04 04:00:00</td>\n      <td>47</td>\n      <td>2.0</td>\n      <td>0.0</td>\n      <td>0.00930</td>\n      <td>6.5</td>\n      <td>Clear</td>\n      <td>0.0</td>\n      <td>1.0</td>\n      <td>winter</td>\n    </tr>\n  </tbody>\n</table>\n</div>"
          },
          "metadata": {}
        }
      ]
    },
    {
      "cell_type": "code",
      "source": "#exporting to csv for visualization\nbikes.to_csv(\"output.csv\")",
      "metadata": {
        "trusted": true
      },
      "execution_count": 81,
      "outputs": []
    }
  ]
}